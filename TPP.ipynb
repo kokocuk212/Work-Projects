{
 "cells": [
  {
   "cell_type": "code",
   "execution_count": 1,
   "id": "06bed709",
   "metadata": {},
   "outputs": [],
   "source": [
    "import os\n",
    "import pandas as pd\n",
    "import random"
   ]
  },
  {
   "cell_type": "code",
   "execution_count": 2,
   "id": "1f6a2d20",
   "metadata": {},
   "outputs": [],
   "source": [
    "# переписывает формат файла со старого на новый. Корректно работает с '.xls' -> '.xlsx', с другими не пробовалось\n",
    "# есть возможность удалять обработанный файл, чтобы не иметь дубликатов (прим.: file.xls и file.xlsx)\n",
    "# для этого ставим remove=True, изначально это говно выключено\n",
    "\n",
    "def rewrite_format(file, old_format='.xls', new_format='.xlsx', remove=False):\n",
    "    df = pd.read_excel(file, index_col=0, header=None)\n",
    "    df.to_excel(file[:len(file)-len(old_format)]+new_format)\n",
    "    if remove:\n",
    "        os.remove(file)"
   ]
  },
  {
   "cell_type": "code",
   "execution_count": 3,
   "id": "3831d692",
   "metadata": {},
   "outputs": [],
   "source": [
    "# заносит в список всё, что format (прим: при format='.xlsx' добавит все файлы, которые в формате .xlsx)\n",
    "\n",
    "def remove_formats(processing_list, format='.xlsx'): # надо переименовать функцию, оно не удоляет\n",
    "    list_to_delete = []\n",
    "    for file in processing_list:\n",
    "        if format not in file:\n",
    "            list_to_delete.append(file)\n",
    "    for file in list_to_delete:\n",
    "        processing_list.remove(file)\n",
    "    list_to_delete = []\n",
    "    \n",
    "    # исключение для формата '.xls', т.к. при его поиске можно захватить формат '.xlsx' в подарок\n",
    "    \n",
    "    if format == '.xls':\n",
    "        for file in processing_list:\n",
    "            if '.xlsx' in file:\n",
    "                list_to_delete.append(file)\n",
    "        for file in list_to_delete:\n",
    "            processing_list.remove(file)\n",
    "    \n",
    "    return processing_list"
   ]
  },
  {
   "cell_type": "code",
   "execution_count": 4,
   "id": "6de17c1f",
   "metadata": {},
   "outputs": [],
   "source": [
    "# создаём колонку \"Для отбора проб\", в которой рандомно выбирается k строк\n",
    "\n",
    "def make_random_samples(df, k=100):\n",
    "    #df['Выбор'] = 0\n",
    "    if df.shape[0] < k:\n",
    "        df['Для отбора проб'] = 'Отбор'\n",
    "        return df\n",
    "    else:\n",
    "        df.loc[random.sample(list(df.index), k), 'Для отбора проб'] = 'Отбор'\n",
    "        return df"
   ]
  },
  {
   "cell_type": "code",
   "execution_count": 6,
   "id": "d58d8b82",
   "metadata": {},
   "outputs": [],
   "source": [
    "#закоментированно от греха подальше\n",
    "#'''\n",
    "\n",
    "# устанавливаем путь в папку с исходниками и в папку с готовыми файлами\n",
    "\n",
    "path_raw, path_done = 'C:/Users/Zhilapv/Desktop/демография/ТПП/абработана',\\\n",
    "                      'C:/Users/Zhilapv/Desktop/демография/ТПП/готовое, добавить на облако'\n",
    "os.chdir(path_raw) \n",
    "\n",
    "# считываем все файлы в папке, удаляем из списка те файлы, которые обрабатываться НЕ будут\n",
    "\n",
    "regions = remove_formats(list(os.listdir()))\n",
    "\n",
    "# цикл, в котором считывается каждый файл(регион) и каждая его страница (2 шт) в датафрейм (дф)\n",
    "\n",
    "for region in regions:\n",
    "    # конструкция try-except нужна для того, чтобы избежать остановки цикла при проходе через файлы, вызывающие ошибку\n",
    "    # (необработанные файлы, в которых названия листов отличаются от \"Основной\" и \"Запасной\")\n",
    "    try:\n",
    "        # один файл считывается в 2 датафрейма: df1 считывает лист \"Основной\", df2 считывает лист \"Запасной\"\n",
    "        df1, df2 = pd.read_excel(region, sheet_name='Основной', index_col=0), pd.read_excel(region, sheet_name='Запасной', index_col=0)\n",
    "        # обрабатываем каждый дф самописным рандомайзером\n",
    "        df1 = make_random_samples(df1)\n",
    "        df2 = make_random_samples(df2)\n",
    "        # для сохранения одной эксельки с несколькими страницами в ней\n",
    "        # готовые файлы сохраняются в ту же папку, где лежат исходники\n",
    "        # не баг, а фича\n",
    "        with pd.ExcelWriter('C:/Users/Zhilapv/Desktop/демография/ТПП/абработана/' + region + '.xlsx') as writer:\n",
    "            df1.to_excel(writer, sheet_name='Основной')\n",
    "            df2.to_excel(writer, sheet_name='Запасной')\n",
    "    except ValueError:\n",
    "        # по идее, должно помечать все строки как \"Проверка\", если кол-во строк меньше 100\n",
    "        df1 = pd.read_excel(region, index_col=0)\n",
    "        if df1.shape[0] < 100:\n",
    "            df1['Для отбора проб'] = 'Отбор'\n",
    "            with pd.ExcelWriter('C:/Users/Zhilapv/Desktop/демография/ТПП/абработана/' + region + '.xlsx') as writer:\n",
    "                df1.to_excel(writer)\n",
    "        else:\n",
    "            df1 = make_random_samples(df1)\n",
    "            with pd.ExcelWriter('C:/Users/Zhilapv/Desktop/демография/ТПП/абработана/' + region + '.xlsx') as writer:\n",
    "                df1.to_excel(writer)\n",
    "                \n",
    "#'''"
   ]
  },
  {
   "cell_type": "code",
   "execution_count": 7,
   "id": "399c801b",
   "metadata": {},
   "outputs": [],
   "source": [
    "# переименовываем файлы, избавляясь от косяков типа ' (+).xlsx.xlsx'\n",
    "# АСТАРОЖНА\n",
    "os.chdir('C:/Users/Zhilapv/Desktop/демография/ТПП/абработана/готовое, добавить на облако')\n",
    "for file in list(os.listdir()):\n",
    "    os.rename(file, file[:len(file)-14]+'.xlsx')"
   ]
  },
  {
   "cell_type": "code",
   "execution_count": 8,
   "id": "98171ee9",
   "metadata": {},
   "outputs": [],
   "source": [
    "# для точечного использования\n",
    "\n",
    "path_raw, path_done = 'C:/Users/Zhilapv/Desktop/демография/ТПП/абработана',\\\n",
    "                      'C:/Users/Zhilapv/Desktop/демография/ТПП/готовое, добавить на облако'\n",
    "os.chdir(path_raw)\n",
    "\n",
    "regions = remove_formats(list(os.listdir()))\n",
    "\n",
    "df1, df2 = pd.read_excel(regions[1], sheet_name='Основной', index_col=0), pd.read_excel(regions[1], sheet_name='Запасной', index_col=0)\n",
    "df1 = make_random_samples(df1)\n",
    "df2 = make_random_samples(df2)\n",
    "\n",
    "with pd.ExcelWriter('C:/Users/Zhilapv/Desktop/демография/ТПП/абработана/' + regions[1] + '.xlsx') as writer:\n",
    "    df1.to_excel(writer, sheet_name='Основной')\n",
    "    df2.to_excel(writer, sheet_name='Запасной')\n"
   ]
  }
 ],
 "metadata": {
  "kernelspec": {
   "display_name": "Python 3 (ipykernel)",
   "language": "python",
   "name": "python3"
  },
  "language_info": {
   "codemirror_mode": {
    "name": "ipython",
    "version": 3
   },
   "file_extension": ".py",
   "mimetype": "text/x-python",
   "name": "python",
   "nbconvert_exporter": "python",
   "pygments_lexer": "ipython3",
   "version": "3.9.7"
  }
 },
 "nbformat": 4,
 "nbformat_minor": 5
}
